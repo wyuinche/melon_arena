{
  "nbformat": 4,
  "nbformat_minor": 0,
  "metadata": {
    "colab": {
      "name": "Untitled3.ipynb",
      "provenance": [],
      "private_outputs": true,
      "authorship_tag": "ABX9TyP+d8j/LD3Nbu7Ba3HHvJj/",
      "include_colab_link": true
    },
    "kernelspec": {
      "name": "python3",
      "display_name": "Python 3"
    }
  },
  "cells": [
    {
      "cell_type": "markdown",
      "metadata": {
        "id": "view-in-github",
        "colab_type": "text"
      },
      "source": [
        "<a href=\"https://colab.research.google.com/github/wyuinche/melon_arena/blob/master/token_tag_pair.ipynb\" target=\"_parent\"><img src=\"https://colab.research.google.com/assets/colab-badge.svg\" alt=\"Open In Colab\"/></a>"
      ]
    },
    {
      "cell_type": "code",
      "metadata": {
        "id": "kKdSk9snb-40",
        "colab_type": "code",
        "colab": {}
      },
      "source": [
        "from tqdm import tqdm\n",
        "from time import sleep\n",
        "import pandas as pd\n",
        "import numpy as np\n",
        "import pandas as pd\n",
        "import json"
      ],
      "execution_count": null,
      "outputs": []
    },
    {
      "cell_type": "code",
      "metadata": {
        "id": "aVyDeCkv-V6P",
        "colab_type": "code",
        "colab": {}
      },
      "source": [
        "token = pd.read_json('/gdrive/My Drive/Colab Notebooks/train_token.json', orient = 'table')\n",
        "t = pd.read_json('.../token_1000.json', orient = 'table')"
      ],
      "execution_count": null,
      "outputs": []
    },
    {
      "cell_type": "code",
      "metadata": {
        "id": "Aqx6tzAgcF1f",
        "colab_type": "code",
        "colab": {}
      },
      "source": [
        "def ttt(i, j):\n",
        "  if t['token'][i] in token['ply_token'][j]:\n",
        "    t['tags'][i].append(token['tags'][j])"
      ],
      "execution_count": null,
      "outputs": []
    },
    {
      "cell_type": "code",
      "metadata": {
        "id": "uAudO0Lc9yJF",
        "colab_type": "code",
        "colab": {}
      },
      "source": [
        ""
      ],
      "execution_count": null,
      "outputs": []
    },
    {
      "cell_type": "markdown",
      "metadata": {
        "id": "1vplfTzm-raI",
        "colab_type": "text"
      },
      "source": [
        "0부터 999까지 i를 했습니다. 새로 하신다면 \n",
        "\n",
        "range(1000, ~) 하시면 될거 같아요"
      ]
    },
    {
      "cell_type": "code",
      "metadata": {
        "id": "Q_2WCHqg9yMU",
        "colab_type": "code",
        "colab": {}
      },
      "source": [
        "for i in tqdm(range(100, 1000)):\n",
        "  sleep(0.1)\n",
        "  for j in range(115071):\n",
        "    ttt(i,j)"
      ],
      "execution_count": null,
      "outputs": []
    }
  ]
}