{
 "cells": [
  {
   "cell_type": "code",
   "execution_count": 68,
   "metadata": {},
   "outputs": [],
   "source": [
    "import json\n",
    "import os\n",
    "import numpy as np\n",
    "import pandas as pd"
   ]
  },
  {
   "cell_type": "code",
   "execution_count": 94,
   "metadata": {},
   "outputs": [],
   "source": [
    "def binary_search(list_, target):\n",
    "    list_.sort()\n",
    "    l = 0\n",
    "    r = len(list_)\n",
    "    #print(list_)\n",
    "    #print(target)\n",
    "    while True:\n",
    "        if(l>=r): return 0\n",
    "        m = int((l+r)/2)\n",
    "        if list_[m]==target: return 1\n",
    "        elif list_[m]>target:\n",
    "            r = m\n",
    "        else:\n",
    "            l = m+1"
   ]
  },
  {
   "cell_type": "code",
   "execution_count": 95,
   "metadata": {},
   "outputs": [],
   "source": [
    "def is_similar(big_list, small_list):\n",
    "    if len(big_list)<len(small_list):\n",
    "        tmp = big_list\n",
    "        big_list = small_list\n",
    "        small_list = tmp\n",
    "    lim_num = (len(small_list)*50)/100\n",
    "    count = 0\n",
    "    big_list = np.array(big_list)\n",
    "    small_list = np.array(small_list)\n",
    "    for i in range(len(small_list)):\n",
    "        if binary_search(big_list, small_list[i]):\n",
    "            count += 1\n",
    "            if count>=lim_num: return 1\n",
    "            elif (len(small_list)-i-1)<(lim_num-count): return 0\n",
    "    if count>=lim_num: return 1\n",
    "    else: return 0"
   ]
  },
  {
   "cell_type": "code",
   "execution_count": 96,
   "metadata": {},
   "outputs": [
    {
     "data": {
      "text/html": [
       "<div>\n",
       "<style scoped>\n",
       "    .dataframe tbody tr th:only-of-type {\n",
       "        vertical-align: middle;\n",
       "    }\n",
       "\n",
       "    .dataframe tbody tr th {\n",
       "        vertical-align: top;\n",
       "    }\n",
       "\n",
       "    .dataframe thead th {\n",
       "        text-align: right;\n",
       "    }\n",
       "</style>\n",
       "<table border=\"1\" class=\"dataframe\">\n",
       "  <thead>\n",
       "    <tr style=\"text-align: right;\">\n",
       "      <th></th>\n",
       "      <th>tag</th>\n",
       "      <th>tag_group</th>\n",
       "    </tr>\n",
       "  </thead>\n",
       "  <tbody>\n",
       "    <tr>\n",
       "      <td>0</td>\n",
       "      <td></td>\n",
       "      <td>[, 힙합, HIPHOPLE, 외힙, 틱톡, 흑인음악, 힙합엘이, 힙합추천]</td>\n",
       "    </tr>\n",
       "    <tr>\n",
       "      <td>1</td>\n",
       "      <td>00</td>\n",
       "      <td>[댄스, 2000년대, 구정, 22, 10, 새해, 클럽, 히트, 운동, HOT, ...</td>\n",
       "    </tr>\n",
       "    <tr>\n",
       "      <td>2</td>\n",
       "      <td>007</td>\n",
       "      <td>[본시리즈, etc, 스코어, 아델, 미션임파서블, 영화음악, 장르, 제임스본드, ...</td>\n",
       "    </tr>\n",
       "    <tr>\n",
       "      <td>3</td>\n",
       "      <td>007시리즈</td>\n",
       "      <td>[etc, 존베리, 듀란듀란, 아델, 장르, 제임스본드, 메인테마, 해외, OST,...</td>\n",
       "    </tr>\n",
       "    <tr>\n",
       "      <td>4</td>\n",
       "      <td>00s</td>\n",
       "      <td>[학창시절, MP3, 추억, 첫사랑, 명곡들, ballad, 공중전화, 00s, 과...</td>\n",
       "    </tr>\n",
       "    <tr>\n",
       "      <td>...</td>\n",
       "      <td>...</td>\n",
       "      <td>...</td>\n",
       "    </tr>\n",
       "    <tr>\n",
       "      <td>29155</td>\n",
       "      <td>힙해</td>\n",
       "      <td>[빌보드, 힙합, 힙해, 편집샵st, 사운드, 랩, 비트, 국내힙합, 꿀렁꿀렁, H...</td>\n",
       "    </tr>\n",
       "    <tr>\n",
       "      <td>29156</td>\n",
       "      <td>힙힙힙</td>\n",
       "      <td>[달달힙합, 뉴트로, 잠이나자야겠어, 힙띵곡, 힙스터, 힙힙힙, 국힙외힙, 힙합감성...</td>\n",
       "    </tr>\n",
       "    <tr>\n",
       "      <td>29157</td>\n",
       "      <td>힛뎀포크</td>\n",
       "      <td>[힛뎀폭, 외힙, 힛뎀폭스, 트렌디, 힛뎀포크, 클럽춤]</td>\n",
       "    </tr>\n",
       "    <tr>\n",
       "      <td>29158</td>\n",
       "      <td>힛뎀폭</td>\n",
       "      <td>[힛뎀폭, 외힙, 힛뎀폭스, 트렌디, 힛뎀포크, 클럽춤]</td>\n",
       "    </tr>\n",
       "    <tr>\n",
       "      <td>29159</td>\n",
       "      <td>힛뎀폭스</td>\n",
       "      <td>[힙합, 힛뎀폭, 외힙, 랩, 힛뎀폭스, 댑, 트랩, 트렌디, 힛뎀포크, 클럽춤, ...</td>\n",
       "    </tr>\n",
       "  </tbody>\n",
       "</table>\n",
       "<p>29160 rows × 2 columns</p>\n",
       "</div>"
      ],
      "text/plain": [
       "          tag                                          tag_group\n",
       "0                     [, 힙합, HIPHOPLE, 외힙, 틱톡, 흑인음악, 힙합엘이, 힙합추천]\n",
       "1          00  [댄스, 2000년대, 구정, 22, 10, 새해, 클럽, 히트, 운동, HOT, ...\n",
       "2         007  [본시리즈, etc, 스코어, 아델, 미션임파서블, 영화음악, 장르, 제임스본드, ...\n",
       "3      007시리즈  [etc, 존베리, 듀란듀란, 아델, 장르, 제임스본드, 메인테마, 해외, OST,...\n",
       "4         00s  [학창시절, MP3, 추억, 첫사랑, 명곡들, ballad, 공중전화, 00s, 과...\n",
       "...       ...                                                ...\n",
       "29155      힙해  [빌보드, 힙합, 힙해, 편집샵st, 사운드, 랩, 비트, 국내힙합, 꿀렁꿀렁, H...\n",
       "29156     힙힙힙  [달달힙합, 뉴트로, 잠이나자야겠어, 힙띵곡, 힙스터, 힙힙힙, 국힙외힙, 힙합감성...\n",
       "29157    힛뎀포크                    [힛뎀폭, 외힙, 힛뎀폭스, 트렌디, 힛뎀포크, 클럽춤]\n",
       "29158     힛뎀폭                    [힛뎀폭, 외힙, 힛뎀폭스, 트렌디, 힛뎀포크, 클럽춤]\n",
       "29159    힛뎀폭스  [힙합, 힛뎀폭, 외힙, 랩, 힛뎀폭스, 댑, 트랩, 트렌디, 힛뎀포크, 클럽춤, ...\n",
       "\n",
       "[29160 rows x 2 columns]"
      ]
     },
     "execution_count": 96,
     "metadata": {},
     "output_type": "execute_result"
    }
   ],
   "source": [
    "tag_group_map = pd.read_json('tag_group_list.json', typ='frame', orient='table', encoding='utf-8')\n",
    "tag_group_map"
   ]
  },
  {
   "cell_type": "code",
   "execution_count": 105,
   "metadata": {},
   "outputs": [],
   "source": [
    "tag_similarity = []\n",
    "tmp = []\n",
    "tag_groups = tag_group_map['tag_group']"
   ]
  },
  {
   "cell_type": "code",
   "execution_count": null,
   "metadata": {},
   "outputs": [],
   "source": [
    "for i in range(len(tag_group_map)-1):\n",
    "    tmp = [0 for _ in range(len(tag_group_map))]\n",
    "    for j in range(i, len(tag_group_map)-i):\n",
    "        tmp[j] = is_similar(list(tag_groups.loc[i]), list(tag_groups.loc[j]))\n",
    "        if tmp[j]==1: print(\"(%d, %d)\" %(i, j))\n",
    "    tag_similarity.append(tmp)\n"
   ]
  },
  {
   "cell_type": "code",
   "execution_count": null,
   "metadata": {},
   "outputs": [],
   "source": [
    "tag_similarity"
   ]
  },
  {
   "cell_type": "code",
   "execution_count": null,
   "metadata": {},
   "outputs": [],
   "source": [
    "for i in range(len(tag_group_map)):\n",
    "    for j in range(i):\n",
    "        tag_similarity[i][j] = tag_similarity[j][i]"
   ]
  },
  {
   "cell_type": "code",
   "execution_count": null,
   "metadata": {},
   "outputs": [],
   "source": [
    "tag_similarity"
   ]
  },
  {
   "cell_type": "code",
   "execution_count": null,
   "metadata": {},
   "outputs": [],
   "source": [
    "tag_similar_data = pd.DataFrame(tag_similarity, columns = tag_group_map['tag'])\n",
    "tag_similar_data.to_json('tag_similarity.json', orient='table')"
   ]
  },
  {
   "cell_type": "code",
   "execution_count": null,
   "metadata": {},
   "outputs": [],
   "source": [
    "tag_similar_data"
   ]
  }
 ],
 "metadata": {
  "kernelspec": {
   "display_name": "Python 3",
   "language": "python",
   "name": "python3"
  },
  "language_info": {
   "codemirror_mode": {
    "name": "ipython",
    "version": 3
   },
   "file_extension": ".py",
   "mimetype": "text/x-python",
   "name": "python",
   "nbconvert_exporter": "python",
   "pygments_lexer": "ipython3",
   "version": "3.7.4"
  }
 },
 "nbformat": 4,
 "nbformat_minor": 2
}
