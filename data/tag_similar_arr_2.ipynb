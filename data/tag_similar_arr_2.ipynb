{
 "cells": [
  {
   "cell_type": "code",
   "execution_count": 1,
   "metadata": {},
   "outputs": [],
   "source": [
    "import json\n",
    "import os\n",
    "import numpy as np\n",
    "import pandas as pd"
   ]
  },
  {
   "cell_type": "code",
   "execution_count": 8,
   "metadata": {},
   "outputs": [],
   "source": [
    "def is_similar(big_list, small_list):\n",
    "    if len(big_list)<len(small_list):\n",
    "        tmp = big_list\n",
    "        big_list = small_list\n",
    "        small_list = tmp\n",
    "    lim_num = (len(small_list)*50)/100\n",
    "    count = 0\n",
    "    big_list = np.array(big_list)\n",
    "    small_list = np.array(small_list)\n",
    "    for i in range(len(small_list)):\n",
    "        if(len(np.where(big_list == small_list[i])[0])):\n",
    "            count+=1\n",
    "            if count >= lim_num: return 1\n",
    "            elif (len(small_list)-i-1) < (lim_num-count): return 0\n",
    "    if count>=lim_num: return 1\n",
    "    else: return 0"
   ]
  },
  {
   "cell_type": "code",
   "execution_count": 4,
   "metadata": {},
   "outputs": [
    {
     "data": {
      "text/html": [
       "<div>\n",
       "<style scoped>\n",
       "    .dataframe tbody tr th:only-of-type {\n",
       "        vertical-align: middle;\n",
       "    }\n",
       "\n",
       "    .dataframe tbody tr th {\n",
       "        vertical-align: top;\n",
       "    }\n",
       "\n",
       "    .dataframe thead th {\n",
       "        text-align: right;\n",
       "    }\n",
       "</style>\n",
       "<table border=\"1\" class=\"dataframe\">\n",
       "  <thead>\n",
       "    <tr style=\"text-align: right;\">\n",
       "      <th></th>\n",
       "      <th>tag</th>\n",
       "      <th>tag_group</th>\n",
       "    </tr>\n",
       "  </thead>\n",
       "  <tbody>\n",
       "    <tr>\n",
       "      <th>0</th>\n",
       "      <td></td>\n",
       "      <td>[, 힙합엘이, 힙합추천, 힙합, 틱톡, HIPHOPLE, 흑인음악, 외힙]</td>\n",
       "    </tr>\n",
       "    <tr>\n",
       "      <th>1</th>\n",
       "      <td>00</td>\n",
       "      <td>[HOT, 고전, 22, 클럽, 2000년대, 00, 매장, 2017, 히트, 새해...</td>\n",
       "    </tr>\n",
       "    <tr>\n",
       "      <th>2</th>\n",
       "      <td>007</td>\n",
       "      <td>[장르, 스트레스, 미션임파서블, 샘스미스, 영화음악, 스파이영화, 빌리아일리쉬, ...</td>\n",
       "    </tr>\n",
       "    <tr>\n",
       "      <th>3</th>\n",
       "      <td>007시리즈</td>\n",
       "      <td>[장르, 메인테마, 해외, 샘스미스, 007시리즈, etc, 아델, 존베리, 제임스...</td>\n",
       "    </tr>\n",
       "    <tr>\n",
       "      <th>4</th>\n",
       "      <td>00s</td>\n",
       "      <td>[90s, 00s, 공중전화, 학창시절, 라디오, 추억, 과거회상, 첫사랑, 명곡들...</td>\n",
       "    </tr>\n",
       "    <tr>\n",
       "      <th>...</th>\n",
       "      <td>...</td>\n",
       "      <td>...</td>\n",
       "    </tr>\n",
       "    <tr>\n",
       "      <th>29155</th>\n",
       "      <td>힙해</td>\n",
       "      <td>[꿀렁꿀렁, 남다른, 사운드, 빌보드, 비트좋아, 힙합, 리듬, HipHop, 편집...</td>\n",
       "    </tr>\n",
       "    <tr>\n",
       "      <th>29156</th>\n",
       "      <td>힙힙힙</td>\n",
       "      <td>[잠이나자야겠어, 겨울, 힙힙힙, 달달힙합, 뉴트로, 힙합감성, 힙띵곡, 힙스터, ...</td>\n",
       "    </tr>\n",
       "    <tr>\n",
       "      <th>29157</th>\n",
       "      <td>힛뎀포크</td>\n",
       "      <td>[힛뎀폭스, 클럽춤, 트렌디, 힛뎀폭, 외힙, 힛뎀포크]</td>\n",
       "    </tr>\n",
       "    <tr>\n",
       "      <th>29158</th>\n",
       "      <td>힛뎀폭</td>\n",
       "      <td>[힛뎀폭스, 클럽춤, 트렌디, 힛뎀폭, 외힙, 힛뎀포크]</td>\n",
       "    </tr>\n",
       "    <tr>\n",
       "      <th>29159</th>\n",
       "      <td>힛뎀폭스</td>\n",
       "      <td>[힛뎀폭스, 클럽춤, 래칫, 힙합, 트랩, 트렌디, 랩, 힛뎀폭, 붐뱁, 외힙, 힛...</td>\n",
       "    </tr>\n",
       "  </tbody>\n",
       "</table>\n",
       "<p>29160 rows × 2 columns</p>\n",
       "</div>"
      ],
      "text/plain": [
       "          tag                                          tag_group\n",
       "0                     [, 힙합엘이, 힙합추천, 힙합, 틱톡, HIPHOPLE, 흑인음악, 외힙]\n",
       "1          00  [HOT, 고전, 22, 클럽, 2000년대, 00, 매장, 2017, 히트, 새해...\n",
       "2         007  [장르, 스트레스, 미션임파서블, 샘스미스, 영화음악, 스파이영화, 빌리아일리쉬, ...\n",
       "3      007시리즈  [장르, 메인테마, 해외, 샘스미스, 007시리즈, etc, 아델, 존베리, 제임스...\n",
       "4         00s  [90s, 00s, 공중전화, 학창시절, 라디오, 추억, 과거회상, 첫사랑, 명곡들...\n",
       "...       ...                                                ...\n",
       "29155      힙해  [꿀렁꿀렁, 남다른, 사운드, 빌보드, 비트좋아, 힙합, 리듬, HipHop, 편집...\n",
       "29156     힙힙힙  [잠이나자야겠어, 겨울, 힙힙힙, 달달힙합, 뉴트로, 힙합감성, 힙띵곡, 힙스터, ...\n",
       "29157    힛뎀포크                    [힛뎀폭스, 클럽춤, 트렌디, 힛뎀폭, 외힙, 힛뎀포크]\n",
       "29158     힛뎀폭                    [힛뎀폭스, 클럽춤, 트렌디, 힛뎀폭, 외힙, 힛뎀포크]\n",
       "29159    힛뎀폭스  [힛뎀폭스, 클럽춤, 래칫, 힙합, 트랩, 트렌디, 랩, 힛뎀폭, 붐뱁, 외힙, 힛...\n",
       "\n",
       "[29160 rows x 2 columns]"
      ]
     },
     "execution_count": 4,
     "metadata": {},
     "output_type": "execute_result"
    }
   ],
   "source": [
    "tag_group_map = pd.read_json('tag_group.json', typ='frame', orient='table')\n",
    "tag_group_map"
   ]
  },
  {
   "cell_type": "code",
   "execution_count": 5,
   "metadata": {},
   "outputs": [],
   "source": [
    "tag_similarity = []\n",
    "tmp = []\n",
    "tag_groups = tag_group_map['tag_group']"
   ]
  },
  {
   "cell_type": "code",
   "execution_count": null,
   "metadata": {},
   "outputs": [],
   "source": [
    "len(tag_groups)"
   ]
  },
  {
   "cell_type": "code",
   "execution_count": null,
   "metadata": {},
   "outputs": [
    {
     "name": "stdout",
     "output_type": "stream",
     "text": [
      "0\n",
      "1.6206979751586914\n",
      "100\n",
      "166.54247784614563\n",
      "200\n",
      "336.5450174808502\n"
     ]
    }
   ],
   "source": [
    "import time\n",
    "start = time.time()\n",
    "for i in range(len(tag_group_map)):\n",
    "    tmp = [0 for _ in range(len(tag_group_map))]\n",
    "    for j in range(i, len(tag_group_map)):\n",
    "        tmp[j] = is_similar(list(tag_groups.loc[i]), list(tag_groups.loc[j]))\n",
    "    tag_similarity.append(tmp)\n",
    "    if(i%100 ==0) : print(i); end = time.time() ; print(end-start)\n"
   ]
  },
  {
   "cell_type": "code",
   "execution_count": null,
   "metadata": {},
   "outputs": [],
   "source": [
    "tag_similarity"
   ]
  },
  {
   "cell_type": "code",
   "execution_count": null,
   "metadata": {},
   "outputs": [],
   "source": [
    "for i in range(len(tag_group_map)):\n",
    "    for j in range(i):\n",
    "        tag_similarity[i][j] = tag_similarity[j][i]"
   ]
  },
  {
   "cell_type": "code",
   "execution_count": null,
   "metadata": {},
   "outputs": [],
   "source": [
    "tag_similarity"
   ]
  },
  {
   "cell_type": "code",
   "execution_count": null,
   "metadata": {},
   "outputs": [],
   "source": [
    "tag_similar_data = pd.DataFrame(tag_similarity, columns = tag_group_map['tag'])\n",
    "tag_similar_data.to_json('tag_similarity.json', orient='table')"
   ]
  },
  {
   "cell_type": "code",
   "execution_count": null,
   "metadata": {},
   "outputs": [],
   "source": [
    "tag_similar_data"
   ]
  }
 ],
 "metadata": {
  "kernelspec": {
   "display_name": "Python 3",
   "language": "python",
   "name": "python3"
  },
  "language_info": {
   "codemirror_mode": {
    "name": "ipython",
    "version": 3
   },
   "file_extension": ".py",
   "mimetype": "text/x-python",
   "name": "python",
   "nbconvert_exporter": "python",
   "pygments_lexer": "ipython3",
   "version": "3.7.7"
  }
 },
 "nbformat": 4,
 "nbformat_minor": 4
}
