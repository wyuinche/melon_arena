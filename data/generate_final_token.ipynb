{
 "cells": [
  {
   "cell_type": "code",
   "execution_count": 1,
   "metadata": {},
   "outputs": [],
   "source": [
    "import numpy as np\n",
    "import pandas as pd\n",
    "import json\n",
    "import os\n",
    "\n",
    "token_5000 = pd.read_json('token_0_34901/token_0_5000.json', typ='frame', orient='table', encoding='utf-8')\n",
    "token_10000 = pd.read_json('token_0_34901/token_5000_10000.json', typ='frame', orient='table', encoding='utf-8')\n",
    "token_15000 = pd.read_json('token_0_34901/token_10000_15000.json', typ='frame', orient='table', encoding='utf-8')\n",
    "token_20000 = pd.read_json('token_0_34901/token_15000_20000.json', typ='frame', orient='table', encoding='utf-8')\n",
    "token_25000 = pd.read_json('token_0_34901/token_20000_25000.json', typ='frame', orient='table', encoding='utf-8')\n",
    "token_30000 = pd.read_json('token_0_34901/token_25000_30000.json', typ='frame', orient='table', encoding='utf-8')\n",
    "token_35000 = pd.read_json('token_0_34901/token_30000_34901.json', typ='frame', orient='table', encoding='utf-8')"
   ]
  },
  {
   "cell_type": "code",
   "execution_count": 2,
   "metadata": {
    "scrolled": true
   },
   "outputs": [
    {
     "data": {
      "text/html": [
       "<div>\n",
       "<style scoped>\n",
       "    .dataframe tbody tr th:only-of-type {\n",
       "        vertical-align: middle;\n",
       "    }\n",
       "\n",
       "    .dataframe tbody tr th {\n",
       "        vertical-align: top;\n",
       "    }\n",
       "\n",
       "    .dataframe thead th {\n",
       "        text-align: right;\n",
       "    }\n",
       "</style>\n",
       "<table border=\"1\" class=\"dataframe\">\n",
       "  <thead>\n",
       "    <tr style=\"text-align: right;\">\n",
       "      <th></th>\n",
       "      <th>token</th>\n",
       "      <th>tags</th>\n",
       "    </tr>\n",
       "  </thead>\n",
       "  <tbody>\n",
       "    <tr>\n",
       "      <td>0</td>\n",
       "      <td>신이</td>\n",
       "      <td>[[락], [종교음악베스트합창클래식, 추천인기합창클래식, 그리스도기독교합창클래식, ...</td>\n",
       "    </tr>\n",
       "    <tr>\n",
       "      <td>1</td>\n",
       "      <td>주업</td>\n",
       "      <td>[[CCM, 해외CCM, 국내ccm, 파워DJ_CCM, 추천ccm, 매주업뎃], [...</td>\n",
       "    </tr>\n",
       "    <tr>\n",
       "      <td>2</td>\n",
       "      <td>Quincy</td>\n",
       "      <td>[[재즈추천, 재즈], [재즈추천, 재즈], [재즈], [재즈추천, 재즈], [재즈...</td>\n",
       "    </tr>\n",
       "    <tr>\n",
       "      <td>3</td>\n",
       "      <td>한국노래</td>\n",
       "      <td>[[방탄소년단, 전곡듣기], [방탄소년단, 전곡듣기]]</td>\n",
       "    </tr>\n",
       "    <tr>\n",
       "      <td>4</td>\n",
       "      <td>길티</td>\n",
       "      <td>[[길티플레져], [길티플레져]]</td>\n",
       "    </tr>\n",
       "    <tr>\n",
       "      <td>...</td>\n",
       "      <td>...</td>\n",
       "      <td>...</td>\n",
       "    </tr>\n",
       "    <tr>\n",
       "      <td>34896</td>\n",
       "      <td>캐논</td>\n",
       "      <td>[]</td>\n",
       "    </tr>\n",
       "    <tr>\n",
       "      <td>34897</td>\n",
       "      <td>힙스터</td>\n",
       "      <td>[]</td>\n",
       "    </tr>\n",
       "    <tr>\n",
       "      <td>34898</td>\n",
       "      <td>소장</td>\n",
       "      <td>[]</td>\n",
       "    </tr>\n",
       "    <tr>\n",
       "      <td>34899</td>\n",
       "      <td>citi</td>\n",
       "      <td>[]</td>\n",
       "    </tr>\n",
       "    <tr>\n",
       "      <td>34900</td>\n",
       "      <td>빌보드순위</td>\n",
       "      <td>[]</td>\n",
       "    </tr>\n",
       "  </tbody>\n",
       "</table>\n",
       "<p>34901 rows × 2 columns</p>\n",
       "</div>"
      ],
      "text/plain": [
       "        token                                               tags\n",
       "0          신이  [[락], [종교음악베스트합창클래식, 추천인기합창클래식, 그리스도기독교합창클래식, ...\n",
       "1          주업  [[CCM, 해외CCM, 국내ccm, 파워DJ_CCM, 추천ccm, 매주업뎃], [...\n",
       "2      Quincy  [[재즈추천, 재즈], [재즈추천, 재즈], [재즈], [재즈추천, 재즈], [재즈...\n",
       "3        한국노래                     [[방탄소년단, 전곡듣기], [방탄소년단, 전곡듣기]]\n",
       "4          길티                                 [[길티플레져], [길티플레져]]\n",
       "...       ...                                                ...\n",
       "34896      캐논                                                 []\n",
       "34897     힙스터                                                 []\n",
       "34898      소장                                                 []\n",
       "34899    citi                                                 []\n",
       "34900   빌보드순위                                                 []\n",
       "\n",
       "[34901 rows x 2 columns]"
      ]
     },
     "execution_count": 2,
     "metadata": {},
     "output_type": "execute_result"
    }
   ],
   "source": [
    "token_5000"
   ]
  },
  {
   "cell_type": "code",
   "execution_count": 3,
   "metadata": {},
   "outputs": [
    {
     "data": {
      "text/plain": [
       "[['락'],\n",
       " ['종교음악베스트합창클래식',\n",
       "  '추천인기합창클래식',\n",
       "  '그리스도기독교합창클래식',\n",
       "  '이지리스닝합창클래식',\n",
       "  '스트레스해소힐링추천합창클래식'],\n",
       " ['락'],\n",
       " ['종교음악베스트합창클래식',\n",
       "  '추천인기합창클래식',\n",
       "  '그리스도기독교합창클래식',\n",
       "  '이지리스닝합창클래식',\n",
       "  '스트레스해소힐링추천합창클래식']]"
      ]
     },
     "execution_count": 3,
     "metadata": {},
     "output_type": "execute_result"
    }
   ],
   "source": [
    "token_5000['tags'].to_list()[0]"
   ]
  },
  {
   "cell_type": "code",
   "execution_count": 4,
   "metadata": {},
   "outputs": [],
   "source": [
    "new_list = []\n",
    "for i in token_5000.loc[0]['tags']:\n",
    "    for j in i:\n",
    "        new_list.append(j)\n",
    "new_list = list(set(new_list))"
   ]
  },
  {
   "cell_type": "code",
   "execution_count": 5,
   "metadata": {},
   "outputs": [
    {
     "data": {
      "text/plain": [
       "['이지리스닝합창클래식',\n",
       " '락',\n",
       " '그리스도기독교합창클래식',\n",
       " '종교음악베스트합창클래식',\n",
       " '추천인기합창클래식',\n",
       " '스트레스해소힐링추천합창클래식']"
      ]
     },
     "execution_count": 5,
     "metadata": {},
     "output_type": "execute_result"
    }
   ],
   "source": [
    "new_list"
   ]
  },
  {
   "cell_type": "code",
   "execution_count": 6,
   "metadata": {},
   "outputs": [
    {
     "data": {
      "text/plain": [
       "0            신이\n",
       "1            주업\n",
       "2        Quincy\n",
       "3          한국노래\n",
       "4            길티\n",
       "          ...  \n",
       "34896        캐논\n",
       "34897       힙스터\n",
       "34898        소장\n",
       "34899      citi\n",
       "34900     빌보드순위\n",
       "Name: token, Length: 34901, dtype: object"
      ]
     },
     "execution_count": 6,
     "metadata": {},
     "output_type": "execute_result"
    }
   ],
   "source": [
    "token_5000['token']"
   ]
  },
  {
   "cell_type": "code",
   "execution_count": 7,
   "metadata": {},
   "outputs": [],
   "source": [
    "def generalToken(tok, idx):\n",
    "    new_list = []\n",
    "    for i in tok.loc[idx]['tags']:\n",
    "        for j in i:\n",
    "            new_list.append(j)\n",
    "    new_list = list(set(new_list))\n",
    "    return new_list"
   ]
  },
  {
   "cell_type": "code",
   "execution_count": 8,
   "metadata": {},
   "outputs": [
    {
     "data": {
      "text/plain": [
       "token    결절\n",
       "tags     []\n",
       "Name: 20005, dtype: object"
      ]
     },
     "execution_count": 8,
     "metadata": {},
     "output_type": "execute_result"
    }
   ],
   "source": [
    "token_20000.loc[20005]"
   ]
  },
  {
   "cell_type": "code",
   "execution_count": 14,
   "metadata": {},
   "outputs": [
    {
     "name": "stdout",
     "output_type": "stream",
     "text": [
      "5000\n",
      "10000\n",
      "15000\n",
      "20000\n",
      "25000\n",
      "30000\n",
      "complete\n"
     ]
    }
   ],
   "source": [
    "tokens = token_5000['token'].to_list()\n",
    "tags = []\n",
    "for i in range(5000):\n",
    "    tags.append(generalToken(token_5000, i))\n",
    "print(5000)\n",
    "for i in range(5000, 10000):\n",
    "    tags.append(generalToken(token_10000, i))\n",
    "print(10000)\n",
    "for i in range(10000, 15000):\n",
    "    tags.append(generalToken(token_15000, i))\n",
    "print(15000)\n",
    "for i in range(15000, 20000):\n",
    "    tags.append(generalToken(token_20000, i))\n",
    "print(20000)\n",
    "for i in range(20000, 25000):\n",
    "    tags.append(generalToken(token_25000, i))\n",
    "print(25000)\n",
    "for i in range(25000, 30000):\n",
    "    tags.append(generalToken(token_30000, i))\n",
    "print(30000)\n",
    "for i in range(30000, 34901):\n",
    "    tags.append(generalToken(token_35000, i))\n",
    "print('complete')\n"
   ]
  },
  {
   "cell_type": "code",
   "execution_count": 15,
   "metadata": {},
   "outputs": [
    {
     "data": {
      "text/html": [
       "<div>\n",
       "<style scoped>\n",
       "    .dataframe tbody tr th:only-of-type {\n",
       "        vertical-align: middle;\n",
       "    }\n",
       "\n",
       "    .dataframe tbody tr th {\n",
       "        vertical-align: top;\n",
       "    }\n",
       "\n",
       "    .dataframe thead th {\n",
       "        text-align: right;\n",
       "    }\n",
       "</style>\n",
       "<table border=\"1\" class=\"dataframe\">\n",
       "  <thead>\n",
       "    <tr style=\"text-align: right;\">\n",
       "      <th></th>\n",
       "      <th>token</th>\n",
       "    </tr>\n",
       "  </thead>\n",
       "  <tbody>\n",
       "    <tr>\n",
       "      <td>0</td>\n",
       "      <td>신이</td>\n",
       "    </tr>\n",
       "    <tr>\n",
       "      <td>1</td>\n",
       "      <td>주업</td>\n",
       "    </tr>\n",
       "    <tr>\n",
       "      <td>2</td>\n",
       "      <td>Quincy</td>\n",
       "    </tr>\n",
       "    <tr>\n",
       "      <td>3</td>\n",
       "      <td>한국노래</td>\n",
       "    </tr>\n",
       "    <tr>\n",
       "      <td>4</td>\n",
       "      <td>길티</td>\n",
       "    </tr>\n",
       "    <tr>\n",
       "      <td>...</td>\n",
       "      <td>...</td>\n",
       "    </tr>\n",
       "    <tr>\n",
       "      <td>34896</td>\n",
       "      <td>캐논</td>\n",
       "    </tr>\n",
       "    <tr>\n",
       "      <td>34897</td>\n",
       "      <td>힙스터</td>\n",
       "    </tr>\n",
       "    <tr>\n",
       "      <td>34898</td>\n",
       "      <td>소장</td>\n",
       "    </tr>\n",
       "    <tr>\n",
       "      <td>34899</td>\n",
       "      <td>citi</td>\n",
       "    </tr>\n",
       "    <tr>\n",
       "      <td>34900</td>\n",
       "      <td>빌보드순위</td>\n",
       "    </tr>\n",
       "  </tbody>\n",
       "</table>\n",
       "<p>34901 rows × 1 columns</p>\n",
       "</div>"
      ],
      "text/plain": [
       "        token\n",
       "0          신이\n",
       "1          주업\n",
       "2      Quincy\n",
       "3        한국노래\n",
       "4          길티\n",
       "...       ...\n",
       "34896      캐논\n",
       "34897     힙스터\n",
       "34898      소장\n",
       "34899    citi\n",
       "34900   빌보드순위\n",
       "\n",
       "[34901 rows x 1 columns]"
      ]
     },
     "execution_count": 15,
     "metadata": {},
     "output_type": "execute_result"
    }
   ],
   "source": [
    "new = pd.DataFrame(data = tokens, columns=['token'])\n",
    "new"
   ]
  },
  {
   "cell_type": "code",
   "execution_count": 16,
   "metadata": {},
   "outputs": [],
   "source": [
    "new['tags'] = np.nan\n",
    "new = new.to_numpy()\n",
    "for i in range(34901):\n",
    "    new[i, 1] = tags[i]\n",
    "new2 = pd.DataFrame(data = new, columns=['token', 'tags'])\n",
    "new2.to_json('token_final.json', orient='table')"
   ]
  },
  {
   "cell_type": "code",
   "execution_count": 35,
   "metadata": {},
   "outputs": [
    {
     "data": {
      "text/plain": [
       "array([['신이',\n",
       "        list(['이지리스닝합창클래식', '그리스도기독교합창클래식', '추천인기합창클래식', '스트레스해소힐링추천합창클래식', '종교음악베스트합창클래식', '락'])],\n",
       "       ['주업',\n",
       "        list(['밴드', '부드러운', '팝', '파워DJ_CCM', '해외', '매장음악', '휴식', '추천ccm', '힐링', '매주업뎃', '밴드음악', '달달', '국내ccm', '커피', '분위기', 'CCM', '카페', '해외CCM', '잔잔한'])],\n",
       "       ['Quincy', list(['재즈추천', '재즈'])],\n",
       "       ...,\n",
       "       ['소장',\n",
       "        list(['소울', '밴드', '명곡', '청량한', '일렉', '상쾌한', '발라드', '여행', '선선할때', '감성힙합', '소장', '아주여성합창단', '감성', '1위', '가을', '운전', '랩', '33분', '노래', '그루브', '추억', '월드뮤직', '이별', '분위기', '잔잔한', 'RnB', '시원한', '사랑', '장르불문', '하우스', '트렌디', '취향저격', '힙합', '1990년대발라드', '인디', '휴식힐링', '산책', '음색', '매장음악', '보물창고', '다이소플레이스트', '개인소장', '휴양지', '소향', '좋다', '힙합RnB', '냥', '바캉스', '목소리_갑', '운동', '설렘', '나얼', '팝', '드라이브', '회상', '커버곡', '보컬', '알앤비', '힐링', '편집샵', 'Kshmr', '퀸', '팝송', '뉴에이지', '국힙', '새벽', '클럽', '국내힙합', 'Pop', '실패없는', '2010년대', '매력적인', '보헤미안랩소디', '스트레스해소', '신나는', '추천뮤직', '로렌다이글', '트렌드', '베스트11', '박홍준', '추천곡', '스트레스', '드라이빙', '흥얼흥얼', '일렉트로닉', '유은성', '중독성', '휴식', '띵곡', '강추', '목소리깡패', '소통', '기분전환', 'EDM', '카페'])],\n",
       "       ['citi',\n",
       "        list(['복고', '레트로', '기분전환', '드라이브', '시티팝', '감성', 'CityPop', '리듬', '여름', '청량한'])],\n",
       "       ['빌보드순위', list(['빌보드', 'Pop'])]], dtype=object)"
      ]
     },
     "execution_count": 35,
     "metadata": {},
     "output_type": "execute_result"
    }
   ],
   "source": [
    "new"
   ]
  },
  {
   "cell_type": "code",
   "execution_count": 38,
   "metadata": {},
   "outputs": [
    {
     "data": {
      "text/html": [
       "<div>\n",
       "<style scoped>\n",
       "    .dataframe tbody tr th:only-of-type {\n",
       "        vertical-align: middle;\n",
       "    }\n",
       "\n",
       "    .dataframe tbody tr th {\n",
       "        vertical-align: top;\n",
       "    }\n",
       "\n",
       "    .dataframe thead th {\n",
       "        text-align: right;\n",
       "    }\n",
       "</style>\n",
       "<table border=\"1\" class=\"dataframe\">\n",
       "  <thead>\n",
       "    <tr style=\"text-align: right;\">\n",
       "      <th></th>\n",
       "      <th>token</th>\n",
       "      <th>tags</th>\n",
       "    </tr>\n",
       "  </thead>\n",
       "  <tbody>\n",
       "    <tr>\n",
       "      <td>0</td>\n",
       "      <td>신이</td>\n",
       "      <td>[이지리스닝합창클래식, 그리스도기독교합창클래식, 추천인기합창클래식, 스트레스해소힐링...</td>\n",
       "    </tr>\n",
       "    <tr>\n",
       "      <td>1</td>\n",
       "      <td>주업</td>\n",
       "      <td>[밴드, 부드러운, 팝, 파워DJ_CCM, 해외, 매장음악, 휴식, 추천ccm, 힐...</td>\n",
       "    </tr>\n",
       "    <tr>\n",
       "      <td>2</td>\n",
       "      <td>Quincy</td>\n",
       "      <td>[재즈추천, 재즈]</td>\n",
       "    </tr>\n",
       "    <tr>\n",
       "      <td>3</td>\n",
       "      <td>한국노래</td>\n",
       "      <td>[방탄소년단, 전곡듣기]</td>\n",
       "    </tr>\n",
       "    <tr>\n",
       "      <td>4</td>\n",
       "      <td>길티</td>\n",
       "      <td>[길티플레져]</td>\n",
       "    </tr>\n",
       "    <tr>\n",
       "      <td>...</td>\n",
       "      <td>...</td>\n",
       "      <td>...</td>\n",
       "    </tr>\n",
       "    <tr>\n",
       "      <td>34896</td>\n",
       "      <td>캐논</td>\n",
       "      <td>[뉴에이지, 변주곡, 기분전환, 드라이브, 신나는, 클래식]</td>\n",
       "    </tr>\n",
       "    <tr>\n",
       "      <td>34897</td>\n",
       "      <td>힙스터</td>\n",
       "      <td>[billieeilish, 밴드, 클럽힙합, 인디팝, 힙스터, experimenta...</td>\n",
       "    </tr>\n",
       "    <tr>\n",
       "      <td>34898</td>\n",
       "      <td>소장</td>\n",
       "      <td>[소울, 밴드, 명곡, 청량한, 일렉, 상쾌한, 발라드, 여행, 선선할때, 감성힙합...</td>\n",
       "    </tr>\n",
       "    <tr>\n",
       "      <td>34899</td>\n",
       "      <td>citi</td>\n",
       "      <td>[복고, 레트로, 기분전환, 드라이브, 시티팝, 감성, CityPop, 리듬, 여름...</td>\n",
       "    </tr>\n",
       "    <tr>\n",
       "      <td>34900</td>\n",
       "      <td>빌보드순위</td>\n",
       "      <td>[빌보드, Pop]</td>\n",
       "    </tr>\n",
       "  </tbody>\n",
       "</table>\n",
       "<p>34901 rows × 2 columns</p>\n",
       "</div>"
      ],
      "text/plain": [
       "        token                                               tags\n",
       "0          신이  [이지리스닝합창클래식, 그리스도기독교합창클래식, 추천인기합창클래식, 스트레스해소힐링...\n",
       "1          주업  [밴드, 부드러운, 팝, 파워DJ_CCM, 해외, 매장음악, 휴식, 추천ccm, 힐...\n",
       "2      Quincy                                         [재즈추천, 재즈]\n",
       "3        한국노래                                      [방탄소년단, 전곡듣기]\n",
       "4          길티                                            [길티플레져]\n",
       "...       ...                                                ...\n",
       "34896      캐논                  [뉴에이지, 변주곡, 기분전환, 드라이브, 신나는, 클래식]\n",
       "34897     힙스터  [billieeilish, 밴드, 클럽힙합, 인디팝, 힙스터, experimenta...\n",
       "34898      소장  [소울, 밴드, 명곡, 청량한, 일렉, 상쾌한, 발라드, 여행, 선선할때, 감성힙합...\n",
       "34899    citi  [복고, 레트로, 기분전환, 드라이브, 시티팝, 감성, CityPop, 리듬, 여름...\n",
       "34900   빌보드순위                                         [빌보드, Pop]\n",
       "\n",
       "[34901 rows x 2 columns]"
      ]
     },
     "execution_count": 38,
     "metadata": {},
     "output_type": "execute_result"
    }
   ],
   "source": [
    "new_token_final = pd.read_json('token_final.json', orient='table')\n",
    "new_token_final"
   ]
  },
  {
   "cell_type": "code",
   "execution_count": null,
   "metadata": {},
   "outputs": [],
   "source": []
  }
 ],
 "metadata": {
  "kernelspec": {
   "display_name": "Python 3",
   "language": "python",
   "name": "python3"
  },
  "language_info": {
   "codemirror_mode": {
    "name": "ipython",
    "version": 3
   },
   "file_extension": ".py",
   "mimetype": "text/x-python",
   "name": "python",
   "nbconvert_exporter": "python",
   "pygments_lexer": "ipython3",
   "version": "3.7.4"
  }
 },
 "nbformat": 4,
 "nbformat_minor": 2
}
