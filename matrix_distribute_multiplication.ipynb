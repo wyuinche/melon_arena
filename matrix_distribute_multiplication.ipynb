{
 "cells": [
  {
   "cell_type": "markdown",
   "metadata": {},
   "source": [
    "# 행렬분할 "
   ]
  },
  {
   "cell_type": "code",
   "execution_count": 1,
   "metadata": {},
   "outputs": [],
   "source": [
    "import json\n",
    "import numpy as np\n",
    "import tensorflow as tf\n",
    "import time"
   ]
  },
  {
   "cell_type": "code",
   "execution_count": 2,
   "metadata": {},
   "outputs": [],
   "source": [
    "with open(\"tag_similar_matrix30_1.json\") as f:\n",
    "    origin_mat = json.load(f)"
   ]
  },
  {
   "cell_type": "code",
   "execution_count": 3,
   "metadata": {},
   "outputs": [],
   "source": [
    "origin_mat = np.array(origin_mat)"
   ]
  },
  {
   "cell_type": "code",
   "execution_count": 4,
   "metadata": {},
   "outputs": [],
   "source": [
    "mat_A = origin_mat[:14580, :14580]\n",
    "mat_B = origin_mat[:14580, 14580:]\n",
    "mat_C = origin_mat[14580:, :14580]\n",
    "mat_D = origin_mat[14580:, 14580:]"
   ]
  },
  {
   "cell_type": "markdown",
   "metadata": {},
   "source": [
    "# 임시저장 (안해도됨)"
   ]
  },
  {
   "cell_type": "code",
   "execution_count": 5,
   "metadata": {},
   "outputs": [],
   "source": [
    "mat_A = mat_A.tolist()\n",
    "mat_B = mat_B.tolist()\n",
    "mat_C = mat_C.tolist()\n",
    "mat_D = mat_D.tolist()\n"
   ]
  },
  {
   "cell_type": "code",
   "execution_count": 7,
   "metadata": {},
   "outputs": [],
   "source": [
    "with open(\"mat30_A.json\", \"w\") as f:\n",
    "    json.dump(mat_A,f)"
   ]
  },
  {
   "cell_type": "code",
   "execution_count": 18,
   "metadata": {},
   "outputs": [],
   "source": [
    "with open(\"mat30_B.json\", \"w\") as f:\n",
    "    json.dump(mat_B,f)"
   ]
  },
  {
   "cell_type": "code",
   "execution_count": 9,
   "metadata": {},
   "outputs": [],
   "source": [
    "with open(\"mat30_C.json\", \"w\") as f:\n",
    "    json.dump(mat_C,f)"
   ]
  },
  {
   "cell_type": "code",
   "execution_count": 10,
   "metadata": {},
   "outputs": [],
   "source": [
    "with open(\"mat30_D.json\", \"w\") as f:\n",
    "    json.dump(mat_D,f)"
   ]
  },
  {
   "cell_type": "markdown",
   "metadata": {},
   "source": [
    "# A부분"
   ]
  },
  {
   "cell_type": "code",
   "execution_count": 7,
   "metadata": {},
   "outputs": [
    {
     "name": "stdout",
     "output_type": "stream",
     "text": [
      "Executing op MatMul in device /job:localhost/replica:0/task:0/device:GPU:0\n",
      "Executing op Add in device /job:localhost/replica:0/task:0/device:GPU:0\n",
      "5.930923700332642\n"
     ]
    }
   ],
   "source": [
    "start = time.time()\n",
    "tf.debugging.set_log_device_placement(True)\n",
    "# 텐서를 GPU에 할당\n",
    "with tf.device('/GPU:0'):\n",
    "    A_tensor = tf.constant(mat_A, dtype = tf.float16)\n",
    "    B_tensor = tf.constant(mat_B, dtype = tf.float16)\n",
    "    C_tensor = tf.constant(mat_C, dtype = tf.float16)\n",
    "    result_A1 = tf.matmul(A_tensor, A_tensor)\n",
    "    result_A2 = tf.matmul(B_tensor, C_tensor)\n",
    "    result_A = tf.add(result_A1, result_A2)\n",
    "    \n",
    "end = time.time()\n",
    "print(end-start)\n",
    "result_A = result_A.numpy().astype(np.int8)"
   ]
  },
  {
   "cell_type": "markdown",
   "metadata": {},
   "source": [
    "# B 부분"
   ]
  },
  {
   "cell_type": "code",
   "execution_count": 8,
   "metadata": {},
   "outputs": [
    {
     "name": "stdout",
     "output_type": "stream",
     "text": [
      "2.0924341678619385\n"
     ]
    }
   ],
   "source": [
    "start = time.time()\n",
    "tf.debugging.set_log_device_placement(True)\n",
    "# 텐서를 GPU에 할당\n",
    "with tf.device('/GPU:0'):\n",
    "    A_tensor = tf.constant(mat_A, dtype = tf.float16)\n",
    "    B_tensor = tf.constant(mat_B, dtype = tf.float16)\n",
    "    D_tensor = tf.constant(mat_D, dtype = tf.float16)\n",
    "    result_B1 = tf.matmul(A_tensor, B_tensor)\n",
    "    result_B2 = tf.matmul(B_tensor, D_tensor)\n",
    "    result_B = tf.add(result_B1, result_B2)\n",
    "    \n",
    "end = time.time()\n",
    "print(end-start)\n",
    "result_B = result_B.numpy().astype(np.int8)"
   ]
  },
  {
   "cell_type": "code",
   "execution_count": 9,
   "metadata": {},
   "outputs": [],
   "source": [
    "b1 = np.concatenate([result_A,result_B], axis = 1).tolist()"
   ]
  },
  {
   "cell_type": "code",
   "execution_count": 10,
   "metadata": {},
   "outputs": [],
   "source": [
    "with open(\"tag_similar_matrix30_2_1.json\", \"w\") as f:\n",
    "    json.dump(b1, f)"
   ]
  },
  {
   "cell_type": "markdown",
   "metadata": {},
   "source": [
    "# 커널 삭제 후 처음부터 시작해서 A B 실행 하지 말고 C D 만들기"
   ]
  },
  {
   "cell_type": "markdown",
   "metadata": {},
   "source": [
    "# C 부분"
   ]
  },
  {
   "cell_type": "code",
   "execution_count": 5,
   "metadata": {},
   "outputs": [
    {
     "name": "stdout",
     "output_type": "stream",
     "text": [
      "Executing op MatMul in device /job:localhost/replica:0/task:0/device:GPU:0\n",
      "Executing op Add in device /job:localhost/replica:0/task:0/device:GPU:0\n",
      "4.579592227935791\n"
     ]
    }
   ],
   "source": [
    "start = time.time()\n",
    "tf.debugging.set_log_device_placement(True)\n",
    "# 텐서를 GPU에 할당\n",
    "with tf.device('/GPU:0'):\n",
    "    A_tensor = tf.constant(mat_A, dtype = tf.float16)\n",
    "    C_tensor = tf.constant(mat_C, dtype = tf.float16)\n",
    "    D_tensor = tf.constant(mat_D, dtype = tf.float16)\n",
    "    result_C1 = tf.matmul(C_tensor, A_tensor)\n",
    "    result_C2 = tf.matmul(D_tensor, C_tensor)\n",
    "    result_C = tf.add(result_C1, result_C2)\n",
    "    \n",
    "end = time.time()\n",
    "print(end-start)\n",
    "result_C = result_C.numpy().astype(np.int8)"
   ]
  },
  {
   "cell_type": "markdown",
   "metadata": {},
   "source": [
    "# D 부분"
   ]
  },
  {
   "cell_type": "code",
   "execution_count": 6,
   "metadata": {},
   "outputs": [
    {
     "name": "stdout",
     "output_type": "stream",
     "text": [
      "2.183192014694214\n"
     ]
    }
   ],
   "source": [
    "start = time.time()\n",
    "tf.debugging.set_log_device_placement(True)\n",
    "# 텐서를 GPU에 할당\n",
    "with tf.device('/GPU:0'):\n",
    "    B_tensor = tf.constant(mat_B, dtype = tf.float16)\n",
    "    C_tensor = tf.constant(mat_C, dtype = tf.float16)\n",
    "    D_tensor = tf.constant(mat_D, dtype = tf.float16)\n",
    "    result_D1 = tf.matmul(C_tensor, B_tensor)\n",
    "    result_D2 = tf.matmul(D_tensor, D_tensor)\n",
    "    result_D = tf.add(result_D1, result_D2)\n",
    "    \n",
    "end = time.time()\n",
    "print(end-start)\n",
    "result_D = result_D.numpy().astype(np.int8)"
   ]
  },
  {
   "cell_type": "code",
   "execution_count": 7,
   "metadata": {},
   "outputs": [],
   "source": [
    "b2 = np.concatenate([result_C,result_D], axis =1).tolist()\n"
   ]
  },
  {
   "cell_type": "code",
   "execution_count": 8,
   "metadata": {},
   "outputs": [],
   "source": [
    "with open(\"tag_similar_matrix30_2_2.json\", \"w\") as f:\n",
    "    json.dump(b2,f)"
   ]
  },
  {
   "cell_type": "markdown",
   "metadata": {},
   "source": [
    "# 다시 커널 삭제후 b1, b2불러오기"
   ]
  },
  {
   "cell_type": "code",
   "execution_count": null,
   "metadata": {},
   "outputs": [],
   "source": [
    "with open(\"tag_similar_matrix30_2_1.json\", \"r\") as f:\n",
    "    b1 = json.load(f)"
   ]
  },
  {
   "cell_type": "code",
   "execution_count": null,
   "metadata": {},
   "outputs": [],
   "source": [
    "with open(\"tag_similar_matrix30_2_2.json\", \"r\") as f:\n",
    "    b2 = json.load(f)"
   ]
  },
  {
   "cell_type": "code",
   "execution_count": null,
   "metadata": {},
   "outputs": [],
   "source": [
    "c = b1+b2"
   ]
  },
  {
   "cell_type": "code",
   "execution_count": null,
   "metadata": {},
   "outputs": [],
   "source": [
    "with open(\"tag_similar_matrix30_2.json\", \"w\") as f:\n",
    "    json.dump(c,f)"
   ]
  }
 ],
 "metadata": {
  "kernelspec": {
   "display_name": "rlawjdghek",
   "language": "python",
   "name": "rlawjdghek"
  },
  "language_info": {
   "codemirror_mode": {
    "name": "ipython",
    "version": 3
   },
   "file_extension": ".py",
   "mimetype": "text/x-python",
   "name": "python",
   "nbconvert_exporter": "python",
   "pygments_lexer": "ipython3",
   "version": "3.7.7"
  }
 },
 "nbformat": 4,
 "nbformat_minor": 4
}
