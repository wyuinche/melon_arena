{
 "cells": [
  {
   "cell_type": "code",
   "execution_count": 1,
   "metadata": {},
   "outputs": [],
   "source": [
    "import json\n",
    "import os\n",
    "import numpy as np\n",
    "import pandas as pd"
   ]
  },
  {
   "cell_type": "code",
   "execution_count": 37,
   "metadata": {},
   "outputs": [],
   "source": [
    "train = pd.read_json('train.json', typ='frame', encoding='utf-8')\n",
    "tag_song_map = pd.read_json('tag_song_pair.json', typ='frame', orient='table', encoding='utf-8')\n",
    "\n",
    "tags = tag_song_map['tag']\n",
    "tag_plylst_map = train[['id', 'tags']]"
   ]
  },
  {
   "cell_type": "code",
   "execution_count": 32,
   "metadata": {},
   "outputs": [
    {
     "data": {
      "text/plain": [
       "0              \n",
       "1            00\n",
       "2           007\n",
       "3        007시리즈\n",
       "4           00s\n",
       "          ...  \n",
       "29155        힙해\n",
       "29156       힙힙힙\n",
       "29157      힛뎀포크\n",
       "29158       힛뎀폭\n",
       "29159      힛뎀폭스\n",
       "Name: tag, Length: 29160, dtype: object"
      ]
     },
     "execution_count": 32,
     "metadata": {},
     "output_type": "execute_result"
    }
   ],
   "source": [
    "tags"
   ]
  },
  {
   "cell_type": "code",
   "execution_count": 38,
   "metadata": {},
   "outputs": [
    {
     "data": {
      "text/html": [
       "<div>\n",
       "<style scoped>\n",
       "    .dataframe tbody tr th:only-of-type {\n",
       "        vertical-align: middle;\n",
       "    }\n",
       "\n",
       "    .dataframe tbody tr th {\n",
       "        vertical-align: top;\n",
       "    }\n",
       "\n",
       "    .dataframe thead th {\n",
       "        text-align: right;\n",
       "    }\n",
       "</style>\n",
       "<table border=\"1\" class=\"dataframe\">\n",
       "  <thead>\n",
       "    <tr style=\"text-align: right;\">\n",
       "      <th></th>\n",
       "      <th>id</th>\n",
       "      <th>tags</th>\n",
       "    </tr>\n",
       "  </thead>\n",
       "  <tbody>\n",
       "    <tr>\n",
       "      <td>0</td>\n",
       "      <td>61281</td>\n",
       "      <td>[락]</td>\n",
       "    </tr>\n",
       "    <tr>\n",
       "      <td>1</td>\n",
       "      <td>10532</td>\n",
       "      <td>[추억, 회상]</td>\n",
       "    </tr>\n",
       "    <tr>\n",
       "      <td>2</td>\n",
       "      <td>76951</td>\n",
       "      <td>[까페, 잔잔한]</td>\n",
       "    </tr>\n",
       "    <tr>\n",
       "      <td>3</td>\n",
       "      <td>147456</td>\n",
       "      <td>[연말, 눈오는날, 캐럴, 분위기, 따듯한, 크리스마스캐럴, 겨울노래, 크리스마스,...</td>\n",
       "    </tr>\n",
       "    <tr>\n",
       "      <td>4</td>\n",
       "      <td>27616</td>\n",
       "      <td>[댄스]</td>\n",
       "    </tr>\n",
       "    <tr>\n",
       "      <td>...</td>\n",
       "      <td>...</td>\n",
       "      <td>...</td>\n",
       "    </tr>\n",
       "    <tr>\n",
       "      <td>115066</td>\n",
       "      <td>120325</td>\n",
       "      <td>[록메탈, 밴드사운드, 록, 락메탈, 메탈, 락, extreme]</td>\n",
       "    </tr>\n",
       "    <tr>\n",
       "      <td>115067</td>\n",
       "      <td>106976</td>\n",
       "      <td>[일렉]</td>\n",
       "    </tr>\n",
       "    <tr>\n",
       "      <td>115068</td>\n",
       "      <td>11343</td>\n",
       "      <td>[담시, 가족, 눈물, 그리움, 주인공, 나의_이야기, 사랑, 친구]</td>\n",
       "    </tr>\n",
       "    <tr>\n",
       "      <td>115069</td>\n",
       "      <td>131982</td>\n",
       "      <td>[잔잔한, 버스, 퇴근버스, Pop, 풍경, 퇴근길]</td>\n",
       "    </tr>\n",
       "    <tr>\n",
       "      <td>115070</td>\n",
       "      <td>100389</td>\n",
       "      <td>[노래추천, 팝송추천, 팝송, 팝송모음]</td>\n",
       "    </tr>\n",
       "  </tbody>\n",
       "</table>\n",
       "<p>115071 rows × 2 columns</p>\n",
       "</div>"
      ],
      "text/plain": [
       "            id                                               tags\n",
       "0        61281                                                [락]\n",
       "1        10532                                           [추억, 회상]\n",
       "2        76951                                          [까페, 잔잔한]\n",
       "3       147456  [연말, 눈오는날, 캐럴, 분위기, 따듯한, 크리스마스캐럴, 겨울노래, 크리스마스,...\n",
       "4        27616                                               [댄스]\n",
       "...        ...                                                ...\n",
       "115066  120325               [록메탈, 밴드사운드, 록, 락메탈, 메탈, 락, extreme]\n",
       "115067  106976                                               [일렉]\n",
       "115068   11343             [담시, 가족, 눈물, 그리움, 주인공, 나의_이야기, 사랑, 친구]\n",
       "115069  131982                      [잔잔한, 버스, 퇴근버스, Pop, 풍경, 퇴근길]\n",
       "115070  100389                             [노래추천, 팝송추천, 팝송, 팝송모음]\n",
       "\n",
       "[115071 rows x 2 columns]"
      ]
     },
     "execution_count": 38,
     "metadata": {},
     "output_type": "execute_result"
    }
   ],
   "source": [
    "tag_plylst_map"
   ]
  },
  {
   "cell_type": "code",
   "execution_count": 39,
   "metadata": {},
   "outputs": [
    {
     "data": {
      "text/html": [
       "<div>\n",
       "<style scoped>\n",
       "    .dataframe tbody tr th:only-of-type {\n",
       "        vertical-align: middle;\n",
       "    }\n",
       "\n",
       "    .dataframe tbody tr th {\n",
       "        vertical-align: top;\n",
       "    }\n",
       "\n",
       "    .dataframe thead th {\n",
       "        text-align: right;\n",
       "    }\n",
       "</style>\n",
       "<table border=\"1\" class=\"dataframe\">\n",
       "  <thead>\n",
       "    <tr style=\"text-align: right;\">\n",
       "      <th></th>\n",
       "      <th>tag</th>\n",
       "      <th>plylst_id</th>\n",
       "    </tr>\n",
       "  </thead>\n",
       "  <tbody>\n",
       "    <tr>\n",
       "      <td>0</td>\n",
       "      <td></td>\n",
       "      <td>95032</td>\n",
       "    </tr>\n",
       "    <tr>\n",
       "      <td>1</td>\n",
       "      <td>00</td>\n",
       "      <td>123921</td>\n",
       "    </tr>\n",
       "    <tr>\n",
       "      <td>2</td>\n",
       "      <td>00</td>\n",
       "      <td>38363</td>\n",
       "    </tr>\n",
       "    <tr>\n",
       "      <td>3</td>\n",
       "      <td>00</td>\n",
       "      <td>3324</td>\n",
       "    </tr>\n",
       "    <tr>\n",
       "      <td>4</td>\n",
       "      <td>00</td>\n",
       "      <td>81830</td>\n",
       "    </tr>\n",
       "    <tr>\n",
       "      <td>...</td>\n",
       "      <td>...</td>\n",
       "      <td>...</td>\n",
       "    </tr>\n",
       "    <tr>\n",
       "      <td>476326</td>\n",
       "      <td>힙힙힙</td>\n",
       "      <td>45778</td>\n",
       "    </tr>\n",
       "    <tr>\n",
       "      <td>476327</td>\n",
       "      <td>힛뎀포크</td>\n",
       "      <td>37691</td>\n",
       "    </tr>\n",
       "    <tr>\n",
       "      <td>476328</td>\n",
       "      <td>힛뎀폭</td>\n",
       "      <td>37691</td>\n",
       "    </tr>\n",
       "    <tr>\n",
       "      <td>476329</td>\n",
       "      <td>힛뎀폭스</td>\n",
       "      <td>37691</td>\n",
       "    </tr>\n",
       "    <tr>\n",
       "      <td>476330</td>\n",
       "      <td>힛뎀폭스</td>\n",
       "      <td>137070</td>\n",
       "    </tr>\n",
       "  </tbody>\n",
       "</table>\n",
       "<p>476331 rows × 2 columns</p>\n",
       "</div>"
      ],
      "text/plain": [
       "         tag plylst_id\n",
       "0                95032\n",
       "1         00    123921\n",
       "2         00     38363\n",
       "3         00      3324\n",
       "4         00     81830\n",
       "...      ...       ...\n",
       "476326   힙힙힙     45778\n",
       "476327  힛뎀포크     37691\n",
       "476328   힛뎀폭     37691\n",
       "476329  힛뎀폭스     37691\n",
       "476330  힛뎀폭스    137070\n",
       "\n",
       "[476331 rows x 2 columns]"
      ]
     },
     "execution_count": 39,
     "metadata": {},
     "output_type": "execute_result"
    }
   ],
   "source": [
    "tag_plylst_pair = pd.read_json('tag_plylst_pair.json', typ='frame', orient='table', encoding='utf-8')\n",
    "\n",
    "# unnest tags\n",
    "tag_plylst_pair_unnest = np.dstack(\n",
    "    (\n",
    "        np.repeat(tag_plylst_pair.tag.values, list(map(len, tag_plylst_pair.plylst_id))), \n",
    "        np.concatenate(tag_plylst_pair.plylst_id.values)\n",
    "    )\n",
    ")\n",
    "\n",
    "# unnested 데이터프레임 생성 : plylst_tag_map\n",
    "tag_plylst_pair = pd.DataFrame(data = tag_plylst_pair_unnest[0], columns = tag_plylst_pair.columns)\n",
    "tag_plylst_pair['tag'] = tag_plylst_pair['tag'].astype(str)\n",
    "\n",
    "# unnest 객체 제거\n",
    "del tag_plylst_pair_unnest\n",
    "\n",
    "tag_plylst_pair"
   ]
  },
  {
   "cell_type": "code",
   "execution_count": 41,
   "metadata": {},
   "outputs": [],
   "source": [
    "tags_similarity = pd.DataFrame(data=tags, columns=['tag'])\n",
    "tags_similarity['tag_group'] = np.nan"
   ]
  },
  {
   "cell_type": "code",
   "execution_count": 42,
   "metadata": {},
   "outputs": [
    {
     "data": {
      "text/html": [
       "<div>\n",
       "<style scoped>\n",
       "    .dataframe tbody tr th:only-of-type {\n",
       "        vertical-align: middle;\n",
       "    }\n",
       "\n",
       "    .dataframe tbody tr th {\n",
       "        vertical-align: top;\n",
       "    }\n",
       "\n",
       "    .dataframe thead th {\n",
       "        text-align: right;\n",
       "    }\n",
       "</style>\n",
       "<table border=\"1\" class=\"dataframe\">\n",
       "  <thead>\n",
       "    <tr style=\"text-align: right;\">\n",
       "      <th></th>\n",
       "      <th>tag</th>\n",
       "      <th>tag_group</th>\n",
       "    </tr>\n",
       "  </thead>\n",
       "  <tbody>\n",
       "    <tr>\n",
       "      <td>0</td>\n",
       "      <td></td>\n",
       "      <td>NaN</td>\n",
       "    </tr>\n",
       "    <tr>\n",
       "      <td>1</td>\n",
       "      <td>00</td>\n",
       "      <td>NaN</td>\n",
       "    </tr>\n",
       "    <tr>\n",
       "      <td>2</td>\n",
       "      <td>007</td>\n",
       "      <td>NaN</td>\n",
       "    </tr>\n",
       "    <tr>\n",
       "      <td>3</td>\n",
       "      <td>007시리즈</td>\n",
       "      <td>NaN</td>\n",
       "    </tr>\n",
       "    <tr>\n",
       "      <td>4</td>\n",
       "      <td>00s</td>\n",
       "      <td>NaN</td>\n",
       "    </tr>\n",
       "    <tr>\n",
       "      <td>...</td>\n",
       "      <td>...</td>\n",
       "      <td>...</td>\n",
       "    </tr>\n",
       "    <tr>\n",
       "      <td>29155</td>\n",
       "      <td>힙해</td>\n",
       "      <td>NaN</td>\n",
       "    </tr>\n",
       "    <tr>\n",
       "      <td>29156</td>\n",
       "      <td>힙힙힙</td>\n",
       "      <td>NaN</td>\n",
       "    </tr>\n",
       "    <tr>\n",
       "      <td>29157</td>\n",
       "      <td>힛뎀포크</td>\n",
       "      <td>NaN</td>\n",
       "    </tr>\n",
       "    <tr>\n",
       "      <td>29158</td>\n",
       "      <td>힛뎀폭</td>\n",
       "      <td>NaN</td>\n",
       "    </tr>\n",
       "    <tr>\n",
       "      <td>29159</td>\n",
       "      <td>힛뎀폭스</td>\n",
       "      <td>NaN</td>\n",
       "    </tr>\n",
       "  </tbody>\n",
       "</table>\n",
       "<p>29160 rows × 2 columns</p>\n",
       "</div>"
      ],
      "text/plain": [
       "          tag  tag_group\n",
       "0                    NaN\n",
       "1          00        NaN\n",
       "2         007        NaN\n",
       "3      007시리즈        NaN\n",
       "4         00s        NaN\n",
       "...       ...        ...\n",
       "29155      힙해        NaN\n",
       "29156     힙힙힙        NaN\n",
       "29157    힛뎀포크        NaN\n",
       "29158     힛뎀폭        NaN\n",
       "29159    힛뎀폭스        NaN\n",
       "\n",
       "[29160 rows x 2 columns]"
      ]
     },
     "execution_count": 42,
     "metadata": {},
     "output_type": "execute_result"
    }
   ],
   "source": [
    "tags_similarity"
   ]
  },
  {
   "cell_type": "code",
   "execution_count": 43,
   "metadata": {},
   "outputs": [
    {
     "data": {
      "text/plain": [
       "array([['', set()],\n",
       "       ['00', set()],\n",
       "       ['007', set()],\n",
       "       ...,\n",
       "       ['힛뎀포크', set()],\n",
       "       ['힛뎀폭', set()],\n",
       "       ['힛뎀폭스', set()]], dtype=object)"
      ]
     },
     "execution_count": 43,
     "metadata": {},
     "output_type": "execute_result"
    }
   ],
   "source": [
    "tags_similarity = tags_similarity.to_numpy()\n",
    "tags = tags.to_numpy()\n",
    "\n",
    "for i in range(len(tags)):\n",
    "    tags_similarity[i, 1] = set()\n",
    "\n",
    "tags_similarity"
   ]
  },
  {
   "cell_type": "code",
   "execution_count": 44,
   "metadata": {},
   "outputs": [
    {
     "data": {
      "text/plain": [
       "0              \n",
       "1            00\n",
       "2           007\n",
       "3        007시리즈\n",
       "4           00s\n",
       "          ...  \n",
       "29155        힙해\n",
       "29156       힙힙힙\n",
       "29157      힛뎀포크\n",
       "29158       힛뎀폭\n",
       "29159      힛뎀폭스\n",
       "Name: tag, Length: 29160, dtype: object"
      ]
     },
     "execution_count": 44,
     "metadata": {},
     "output_type": "execute_result"
    }
   ],
   "source": [
    "tags"
   ]
  },
  {
   "cell_type": "code",
   "execution_count": 103,
   "metadata": {},
   "outputs": [
    {
     "data": {
      "text/html": [
       "<div>\n",
       "<style scoped>\n",
       "    .dataframe tbody tr th:only-of-type {\n",
       "        vertical-align: middle;\n",
       "    }\n",
       "\n",
       "    .dataframe tbody tr th {\n",
       "        vertical-align: top;\n",
       "    }\n",
       "\n",
       "    .dataframe thead th {\n",
       "        text-align: right;\n",
       "    }\n",
       "</style>\n",
       "<table border=\"1\" class=\"dataframe\">\n",
       "  <thead>\n",
       "    <tr style=\"text-align: right;\">\n",
       "      <th></th>\n",
       "      <th>id</th>\n",
       "      <th>tags</th>\n",
       "    </tr>\n",
       "  </thead>\n",
       "  <tbody>\n",
       "    <tr>\n",
       "      <td>0</td>\n",
       "      <td>71635</td>\n",
       "      <td>락</td>\n",
       "    </tr>\n",
       "    <tr>\n",
       "      <td>1</td>\n",
       "      <td>71635</td>\n",
       "      <td>00년생</td>\n",
       "    </tr>\n",
       "    <tr>\n",
       "      <td>2</td>\n",
       "      <td>71635</td>\n",
       "      <td>버즈</td>\n",
       "    </tr>\n",
       "  </tbody>\n",
       "</table>\n",
       "</div>"
      ],
      "text/plain": [
       "      id  tags\n",
       "0  71635     락\n",
       "1  71635  00년생\n",
       "2  71635    버즈"
      ]
     },
     "execution_count": 103,
     "metadata": {},
     "output_type": "execute_result"
    }
   ],
   "source": [
    "tag_list = tag_plylst_map[tag_plylst_map['id']==tag_plylst_pair.loc[50]['plylst_id']]\n",
    "\n",
    "tag_list_unnest = np.dstack((\n",
    "    np.repeat(tag_list.id.values, list(map(len, tag_list.tags))),\n",
    "    np.concatenate(tag_list.tags.values))\n",
    ")\n",
    "\n",
    "tag_list = pd.DataFrame(data = tag_list_unnest[0], columns = tag_list.columns)\n",
    "tag_list['id'] = tag_list['id'].astype(str)\n",
    "\n",
    "del tag_list_unnest\n",
    "\n",
    "tag_list"
   ]
  },
  {
   "cell_type": "code",
   "execution_count": 104,
   "metadata": {},
   "outputs": [
    {
     "name": "stdout",
     "output_type": "stream",
     "text": [
      "{'버즈', '락', '00년생'}\n"
     ]
    }
   ],
   "source": [
    "a = set()\n",
    "\n",
    "for i in tag_list['tags']:\n",
    "    a.add(i)\n",
    "\n",
    "print(a)"
   ]
  },
  {
   "cell_type": "code",
   "execution_count": 106,
   "metadata": {},
   "outputs": [
    {
     "name": "stdout",
     "output_type": "stream",
     "text": [
      "0\n"
     ]
    }
   ],
   "source": [
    "for i in range(len(tag_plylst_pair)):\n",
    "    tag_index = np.where(tags==tag_plylst_pair.loc[i]['tag'])\n",
    "    tag_list = tag_plylst_map[tag_plylst_map['id']==tag_plylst_pair.loc[i]['plylst_id']]\n",
    "    tag_list_unnest = np.dstack(\n",
    "        (\n",
    "            np.repeat(tag_list.id.values, list(map(len, tag_list.tags))),\n",
    "            np.concatenate(tag_list.tags.values)\n",
    "        )\n",
    "    )\n",
    "\n",
    "    tag_list = pd.DataFrame(data = tag_list_unnest[0], columns = tag_list.columns)\n",
    "    tag_list['id'] = tag_list['id'].astype(str)\n",
    "    del tag_list_unnest\n",
    "    for j in tag_list['tags']:\n",
    "        tags_similarity[tag_index[0][0]][1].add(j)\n",
    "    if(i%100==0): print(i)"
   ]
  },
  {
   "cell_type": "code",
   "execution_count": null,
   "metadata": {},
   "outputs": [],
   "source": [
    "tag_group = pd.DataFrame(data=tags_similarity, columns=['tag', 'tag_group'])\n",
    "tag_group.to_json('tag_group.json', orient='table')\n",
    "\n",
    "tag_group"
   ]
  }
 ],
 "metadata": {
  "kernelspec": {
   "display_name": "Python 3",
   "language": "python",
   "name": "python3"
  },
  "language_info": {
   "codemirror_mode": {
    "name": "ipython",
    "version": 3
   },
   "file_extension": ".py",
   "mimetype": "text/x-python",
   "name": "python",
   "nbconvert_exporter": "python",
   "pygments_lexer": "ipython3",
   "version": "3.7.4"
  }
 },
 "nbformat": 4,
 "nbformat_minor": 2
}
